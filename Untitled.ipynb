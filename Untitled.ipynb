{
 "cells": [
  {
   "cell_type": "code",
   "execution_count": 1,
   "id": "2f447913",
   "metadata": {},
   "outputs": [
    {
     "name": "stdout",
     "output_type": "stream",
     "text": [
      "ravi\n"
     ]
    }
   ],
   "source": [
    "print(\"ravi\")"
   ]
  },
  {
   "cell_type": "code",
   "execution_count": 4,
   "id": "8e569eff",
   "metadata": {},
   "outputs": [
    {
     "name": "stdout",
     "output_type": "stream",
     "text": [
      "ravi#kumar\tkumar\n"
     ]
    }
   ],
   "source": [
    "print(\"ravi\",\"kumar\",end=\"\\t\",sep=\"#\") \n",
    "print(\"kumar\")"
   ]
  },
  {
   "cell_type": "code",
   "execution_count": 11,
   "id": "82c7ae9e",
   "metadata": {},
   "outputs": [
    {
     "name": "stdout",
     "output_type": "stream",
     "text": [
      "ravi#kumar\trav#kum\n",
      "ravi#kumar\n"
     ]
    }
   ],
   "source": [
    "print(\"ravi\",\"kumar\",end=\"\\t\",sep=\"#\") \n",
    "print(\"rav\",\"kum\",end=\"\\n\",sep=\"#\")\n",
    "print(\"ravi\",\"kumar\",end=\"\\n\",sep=\"#\") "
   ]
  },
  {
   "cell_type": "code",
   "execution_count": null,
   "id": "eb75e1d6",
   "metadata": {},
   "outputs": [],
   "source": []
  }
 ],
 "metadata": {
  "kernelspec": {
   "display_name": "Python 3 (ipykernel)",
   "language": "python",
   "name": "python3"
  },
  "language_info": {
   "codemirror_mode": {
    "name": "ipython",
    "version": 3
   },
   "file_extension": ".py",
   "mimetype": "text/x-python",
   "name": "python",
   "nbconvert_exporter": "python",
   "pygments_lexer": "ipython3",
   "version": "3.9.12"
  }
 },
 "nbformat": 4,
 "nbformat_minor": 5
}
